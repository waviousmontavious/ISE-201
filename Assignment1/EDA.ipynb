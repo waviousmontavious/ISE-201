{
 "cells": [
  {
   "cell_type": "markdown",
   "metadata": {},
   "source": [
    "# [Python] EDA Assignment"
   ]
  },
  {
   "cell_type": "markdown",
   "metadata": {},
   "source": [
    "<div class=\"alert alert-block alert-info\">\n",
    "The table in \"global_temp_co2_nasa.csv\" contains the global mean surface air temperature anomaly in deg C (Anomaly) and the global CO2 concentration in ppmv, henceforth referred to as Anomaly and CO2 respectively, for the years 1880-2004 (Source: http://data.giss.nasa.gov/gistemp/). The temperature is measured at a number of locations around the world and averaged annually, and then subtracted from a base period average (1951-1980) and the result reported as an anomaly. \n",
    "\n",
    "Download \"global_temp_co2_nasa.csv\" from Canvas/Files/Data\n",
    "</div>"
   ]
  },
  {
   "cell_type": "code",
   "execution_count": 1,
   "metadata": {},
   "outputs": [],
   "source": [
    "from IPython.core.interactiveshell import InteractiveShell\n",
    "InteractiveShell.ast_node_interactivity = \"all\""
   ]
  },
  {
   "cell_type": "markdown",
   "metadata": {},
   "source": [
    "<div class=\"alert alert-block alert-info\">\n",
    "    <b>Task 1:</b> Read data into a panda data frame. Please ensure the data was read in correctly by printing the first few and last few lines. Also print the number of rows and columns </div>\n"
   ]
  },
  {
   "cell_type": "code",
   "execution_count": 2,
   "metadata": {},
   "outputs": [],
   "source": [
    "import pandas as pd\n",
    "import matplotlib.pyplot as plt\n",
    "import numpy as np\n",
    "from scipy import stats"
   ]
  },
  {
   "cell_type": "code",
   "execution_count": 4,
   "metadata": {},
   "outputs": [
    {
     "data": {
      "text/html": [
       "<div>\n",
       "<style scoped>\n",
       "    .dataframe tbody tr th:only-of-type {\n",
       "        vertical-align: middle;\n",
       "    }\n",
       "\n",
       "    .dataframe tbody tr th {\n",
       "        vertical-align: top;\n",
       "    }\n",
       "\n",
       "    .dataframe thead th {\n",
       "        text-align: right;\n",
       "    }\n",
       "</style>\n",
       "<table border=\"1\" class=\"dataframe\">\n",
       "  <thead>\n",
       "    <tr style=\"text-align: right;\">\n",
       "      <th></th>\n",
       "      <th>Year</th>\n",
       "      <th>Anomaly</th>\n",
       "      <th>CO2</th>\n",
       "    </tr>\n",
       "  </thead>\n",
       "  <tbody>\n",
       "    <tr>\n",
       "      <th>0</th>\n",
       "      <td>1880</td>\n",
       "      <td>-0.11</td>\n",
       "      <td>290.7</td>\n",
       "    </tr>\n",
       "    <tr>\n",
       "      <th>1</th>\n",
       "      <td>1881</td>\n",
       "      <td>-0.13</td>\n",
       "      <td>291.2</td>\n",
       "    </tr>\n",
       "    <tr>\n",
       "      <th>2</th>\n",
       "      <td>1882</td>\n",
       "      <td>-0.01</td>\n",
       "      <td>291.7</td>\n",
       "    </tr>\n",
       "    <tr>\n",
       "      <th>3</th>\n",
       "      <td>1883</td>\n",
       "      <td>-0.04</td>\n",
       "      <td>292.1</td>\n",
       "    </tr>\n",
       "    <tr>\n",
       "      <th>4</th>\n",
       "      <td>1884</td>\n",
       "      <td>-0.42</td>\n",
       "      <td>292.6</td>\n",
       "    </tr>\n",
       "    <tr>\n",
       "      <th>...</th>\n",
       "      <td>...</td>\n",
       "      <td>...</td>\n",
       "      <td>...</td>\n",
       "    </tr>\n",
       "    <tr>\n",
       "      <th>134</th>\n",
       "      <td>2014</td>\n",
       "      <td>NaN</td>\n",
       "      <td>NaN</td>\n",
       "    </tr>\n",
       "    <tr>\n",
       "      <th>135</th>\n",
       "      <td>2015</td>\n",
       "      <td>NaN</td>\n",
       "      <td>NaN</td>\n",
       "    </tr>\n",
       "    <tr>\n",
       "      <th>136</th>\n",
       "      <td>2016</td>\n",
       "      <td>NaN</td>\n",
       "      <td>NaN</td>\n",
       "    </tr>\n",
       "    <tr>\n",
       "      <th>137</th>\n",
       "      <td>2017</td>\n",
       "      <td>NaN</td>\n",
       "      <td>NaN</td>\n",
       "    </tr>\n",
       "    <tr>\n",
       "      <th>138</th>\n",
       "      <td>2018</td>\n",
       "      <td>NaN</td>\n",
       "      <td>NaN</td>\n",
       "    </tr>\n",
       "  </tbody>\n",
       "</table>\n",
       "<p>139 rows × 3 columns</p>\n",
       "</div>"
      ],
      "text/plain": [
       "     Year  Anomaly    CO2\n",
       "0    1880    -0.11  290.7\n",
       "1    1881    -0.13  291.2\n",
       "2    1882    -0.01  291.7\n",
       "3    1883    -0.04  292.1\n",
       "4    1884    -0.42  292.6\n",
       "..    ...      ...    ...\n",
       "134  2014      NaN    NaN\n",
       "135  2015      NaN    NaN\n",
       "136  2016      NaN    NaN\n",
       "137  2017      NaN    NaN\n",
       "138  2018      NaN    NaN\n",
       "\n",
       "[139 rows x 3 columns]"
      ]
     },
     "metadata": {},
     "output_type": "display_data"
    },
    {
     "data": {
      "text/plain": [
       "Year         int64\n",
       "Anomaly    float64\n",
       "CO2        float64\n",
       "dtype: object"
      ]
     },
     "execution_count": 4,
     "metadata": {},
     "output_type": "execute_result"
    }
   ],
   "source": [
    "global_temp_df = pd.read_csv('global_temp_co2_nasa.csv', skipinitialspace=True)\n",
    "display(global_temp_df)\n",
    "global_temp_df.dtypes"
   ]
  },
  {
   "cell_type": "markdown",
   "metadata": {},
   "source": [
    "<div class=\"alert alert-block alert-info\">\n",
    "    <b>Task 2:</b> Remove all rows that have missing data and save the cleaned data into a new data frame , verify by printing the first few and last few lines\n",
    "</div>"
   ]
  },
  {
   "cell_type": "code",
   "execution_count": 5,
   "metadata": {
    "scrolled": true
   },
   "outputs": [
    {
     "data": {
      "text/html": [
       "<div>\n",
       "<style scoped>\n",
       "    .dataframe tbody tr th:only-of-type {\n",
       "        vertical-align: middle;\n",
       "    }\n",
       "\n",
       "    .dataframe tbody tr th {\n",
       "        vertical-align: top;\n",
       "    }\n",
       "\n",
       "    .dataframe thead th {\n",
       "        text-align: right;\n",
       "    }\n",
       "</style>\n",
       "<table border=\"1\" class=\"dataframe\">\n",
       "  <thead>\n",
       "    <tr style=\"text-align: right;\">\n",
       "      <th></th>\n",
       "      <th>Year</th>\n",
       "      <th>Anomaly</th>\n",
       "      <th>CO2</th>\n",
       "    </tr>\n",
       "  </thead>\n",
       "  <tbody>\n",
       "    <tr>\n",
       "      <th>0</th>\n",
       "      <td>1880</td>\n",
       "      <td>-0.11</td>\n",
       "      <td>290.7</td>\n",
       "    </tr>\n",
       "    <tr>\n",
       "      <th>1</th>\n",
       "      <td>1881</td>\n",
       "      <td>-0.13</td>\n",
       "      <td>291.2</td>\n",
       "    </tr>\n",
       "    <tr>\n",
       "      <th>2</th>\n",
       "      <td>1882</td>\n",
       "      <td>-0.01</td>\n",
       "      <td>291.7</td>\n",
       "    </tr>\n",
       "    <tr>\n",
       "      <th>3</th>\n",
       "      <td>1883</td>\n",
       "      <td>-0.04</td>\n",
       "      <td>292.1</td>\n",
       "    </tr>\n",
       "    <tr>\n",
       "      <th>4</th>\n",
       "      <td>1884</td>\n",
       "      <td>-0.42</td>\n",
       "      <td>292.6</td>\n",
       "    </tr>\n",
       "    <tr>\n",
       "      <th>...</th>\n",
       "      <td>...</td>\n",
       "      <td>...</td>\n",
       "      <td>...</td>\n",
       "    </tr>\n",
       "    <tr>\n",
       "      <th>120</th>\n",
       "      <td>2000</td>\n",
       "      <td>0.41</td>\n",
       "      <td>369.5</td>\n",
       "    </tr>\n",
       "    <tr>\n",
       "      <th>121</th>\n",
       "      <td>2001</td>\n",
       "      <td>0.56</td>\n",
       "      <td>371.0</td>\n",
       "    </tr>\n",
       "    <tr>\n",
       "      <th>122</th>\n",
       "      <td>2002</td>\n",
       "      <td>0.70</td>\n",
       "      <td>373.1</td>\n",
       "    </tr>\n",
       "    <tr>\n",
       "      <th>123</th>\n",
       "      <td>2003</td>\n",
       "      <td>0.66</td>\n",
       "      <td>375.6</td>\n",
       "    </tr>\n",
       "    <tr>\n",
       "      <th>124</th>\n",
       "      <td>2004</td>\n",
       "      <td>0.60</td>\n",
       "      <td>377.4</td>\n",
       "    </tr>\n",
       "  </tbody>\n",
       "</table>\n",
       "<p>125 rows × 3 columns</p>\n",
       "</div>"
      ],
      "text/plain": [
       "     Year  Anomaly    CO2\n",
       "0    1880    -0.11  290.7\n",
       "1    1881    -0.13  291.2\n",
       "2    1882    -0.01  291.7\n",
       "3    1883    -0.04  292.1\n",
       "4    1884    -0.42  292.6\n",
       "..    ...      ...    ...\n",
       "120  2000     0.41  369.5\n",
       "121  2001     0.56  371.0\n",
       "122  2002     0.70  373.1\n",
       "123  2003     0.66  375.6\n",
       "124  2004     0.60  377.4\n",
       "\n",
       "[125 rows x 3 columns]"
      ]
     },
     "metadata": {},
     "output_type": "display_data"
    }
   ],
   "source": [
    "global_temp_df.dropna(inplace=True)\n",
    "display(global_temp_df)"
   ]
  },
  {
   "cell_type": "markdown",
   "metadata": {},
   "source": [
    "<div class=\"alert alert-block alert-info\">\n",
    "    <b>Task 3:</b> Calculate the summary statistics of location for \"Anomaly\", \"CO2\": mean, median, min, max, 1st quartile, 3rd quartile.\n",
    "    </div>"
   ]
  },
  {
   "cell_type": "code",
   "execution_count": 6,
   "metadata": {},
   "outputs": [
    {
     "name": "stdout",
     "output_type": "stream",
     "text": [
      "Quartiles:\n"
     ]
    },
    {
     "data": {
      "text/html": [
       "<div>\n",
       "<style scoped>\n",
       "    .dataframe tbody tr th:only-of-type {\n",
       "        vertical-align: middle;\n",
       "    }\n",
       "\n",
       "    .dataframe tbody tr th {\n",
       "        vertical-align: top;\n",
       "    }\n",
       "\n",
       "    .dataframe thead th {\n",
       "        text-align: right;\n",
       "    }\n",
       "</style>\n",
       "<table border=\"1\" class=\"dataframe\">\n",
       "  <thead>\n",
       "    <tr style=\"text-align: right;\">\n",
       "      <th></th>\n",
       "      <th>Year</th>\n",
       "      <th>Anomaly</th>\n",
       "      <th>CO2</th>\n",
       "    </tr>\n",
       "  </thead>\n",
       "  <tbody>\n",
       "    <tr>\n",
       "      <th>0.25</th>\n",
       "      <td>1911</td>\n",
       "      <td>-0.18</td>\n",
       "      <td>300.1</td>\n",
       "    </tr>\n",
       "    <tr>\n",
       "      <th>0.50</th>\n",
       "      <td>1942</td>\n",
       "      <td>-0.02</td>\n",
       "      <td>310.2</td>\n",
       "    </tr>\n",
       "    <tr>\n",
       "      <th>0.75</th>\n",
       "      <td>1973</td>\n",
       "      <td>0.12</td>\n",
       "      <td>328.8</td>\n",
       "    </tr>\n",
       "  </tbody>\n",
       "</table>\n",
       "</div>"
      ],
      "text/plain": [
       "      Year  Anomaly    CO2\n",
       "0.25  1911    -0.18  300.1\n",
       "0.50  1942    -0.02  310.2\n",
       "0.75  1973     0.12  328.8"
      ]
     },
     "metadata": {},
     "output_type": "display_data"
    },
    {
     "name": "stdout",
     "output_type": "stream",
     "text": [
      "Mean:\n"
     ]
    },
    {
     "data": {
      "text/plain": [
       "Anomaly     -0.00632\n",
       "CO2        317.27760\n",
       "dtype: float64"
      ]
     },
     "metadata": {},
     "output_type": "display_data"
    },
    {
     "name": "stdout",
     "output_type": "stream",
     "text": [
      "Maximum:\n"
     ]
    },
    {
     "data": {
      "text/plain": [
       "Year       2004.00\n",
       "Anomaly       0.71\n",
       "CO2         377.40\n",
       "dtype: float64"
      ]
     },
     "metadata": {},
     "output_type": "display_data"
    },
    {
     "name": "stdout",
     "output_type": "stream",
     "text": [
      "Minimum\n"
     ]
    },
    {
     "data": {
      "text/plain": [
       "Year       1880.00\n",
       "Anomaly      -0.55\n",
       "CO2         290.70\n",
       "dtype: float64"
      ]
     },
     "metadata": {},
     "output_type": "display_data"
    }
   ],
   "source": [
    "print('Quartiles:')\n",
    "gt_quantiles = global_temp_df.quantile([0.25, 0.5, 0.75], interpolation='nearest')\n",
    "display(gt_quantiles)\n",
    "\n",
    "gt_data = global_temp_df.drop(labels='Year', axis=1)\n",
    "\n",
    "print('Mean:')\n",
    "gt_means = gt_data.mean(axis=0)\n",
    "display(gt_means)\n",
    "\n",
    "print('Maximum:')\n",
    "gt_max = global_temp_df.max(axis=0)\n",
    "display(gt_max)\n",
    "\n",
    "print('Minimum')\n",
    "gt_min = global_temp_df.min(axis=0)\n",
    "display(gt_min)"
   ]
  },
  {
   "cell_type": "markdown",
   "metadata": {},
   "source": [
    "<div class=\"alert alert-block alert-info\">\n",
    "    <b>Task 4:</b> Calculate the summary statistics of spread for \"Anomaly\", \"CO2\": standard deviation, variance, range. \n",
    "</div"
   ]
  },
  {
   "cell_type": "code",
   "execution_count": 7,
   "metadata": {},
   "outputs": [
    {
     "name": "stdout",
     "output_type": "stream",
     "text": [
      "Variance:\n"
     ]
    },
    {
     "data": {
      "text/plain": [
       "Anomaly      0.065846\n",
       "CO2        526.573526\n",
       "dtype: float64"
      ]
     },
     "metadata": {},
     "output_type": "display_data"
    },
    {
     "name": "stdout",
     "output_type": "stream",
     "text": [
      "Standard Deviation:\n"
     ]
    },
    {
     "data": {
      "text/plain": [
       "Anomaly     0.256605\n",
       "CO2        22.947190\n",
       "dtype: float64"
      ]
     },
     "metadata": {},
     "output_type": "display_data"
    },
    {
     "name": "stdout",
     "output_type": "stream",
     "text": [
      "Anomaly Range:\n",
      "1.26\n",
      "CO2 Range:\n",
      "86.69999999999999\n"
     ]
    }
   ],
   "source": [
    "print('Variance:')\n",
    "gt_var = gt_data.var(axis=0)\n",
    "display(gt_var)\n",
    "\n",
    "print('Standard Deviation:')\n",
    "gt_std = gt_data.std(axis=0)\n",
    "display(gt_std)\n",
    "\n",
    "print('Anomaly Range:')\n",
    "anomaly_rng = gt_max['Anomaly'] - gt_min['Anomaly']\n",
    "print(anomaly_rng)\n",
    "\n",
    "print('CO2 Range:')\n",
    "co2_rng = gt_max['CO2'] - gt_min['CO2']\n",
    "print(co2_rng)"
   ]
  },
  {
   "cell_type": "markdown",
   "metadata": {},
   "source": [
    "<div class=\"alert alert-block alert-info\">\n",
    "    <b> Task 5:</b> Plot histogram of frequencies, probability density and empirical cdf plots of Anomaly and Co2. Record your observations\n",
    "</div>"
   ]
  },
  {
   "cell_type": "code",
   "execution_count": 8,
   "metadata": {},
   "outputs": [
    {
     "data": {
      "image/png": "[encoded data removed]",
      "text/plain": [
       "<Figure size 432x288 with 2 Axes>"
      ]
     },
     "metadata": {
      "needs_background": "light"
     },
     "output_type": "display_data"
    }
   ],
   "source": [
    "n = gt_data.shape[0]\n",
    "sqrt_n = int(round(np.sqrt(n)))\n",
    "\n",
    "fig, axs = plt.subplots(1, 2, sharey=True, tight_layout=True)\n",
    "\n",
    "axs[0].hist(gt_data['Anomaly'], bins=sqrt_n);\n",
    "axs[0].set_title('Anomaly');\n",
    "axs[0].set_xlabel('(deg C)');\n",
    "\n",
    "axs[1].hist(gt_data['CO2'], bins=sqrt_n);\n",
    "axs[1].set_title('CO2');\n",
    "axs[1].set_xlabel('(ppmv)');\n",
    "\n",
    "axs[0].set_ylabel('Frequencies');"
   ]
  },
  {
   "cell_type": "markdown",
   "metadata": {},
   "source": [
    "The figures above show that lower anomaly temperatures and co2 concentrations are more frequent for the entire data set. However, the skew may suggest a steady increase in more recent data points."
   ]
  },
  {
   "cell_type": "code",
   "execution_count": 9,
   "metadata": {},
   "outputs": [
    {
     "data": {
      "image/png": "[encoded data removed]",
      "text/plain": [
       "<Figure size 432x288 with 2 Axes>"
      ]
     },
     "metadata": {
      "needs_background": "light"
     },
     "output_type": "display_data"
    }
   ],
   "source": [
    "fig, axs = plt.subplots(1, 2, tight_layout=True)\n",
    "\n",
    "#gt_data['Anomaly'].plot.density(ax=axs[0]);\n",
    "axs[0].hist(gt_data['Anomaly'], bins=sqrt_n, density=True);\n",
    "axs[0].set_title('Anomaly');\n",
    "axs[0].set_xlabel('deg C');\n",
    "\n",
    "axs[1].hist(gt_data['CO2'], bins=sqrt_n, density=True);\n",
    "axs[1].set_title('CO2');\n",
    "axs[1].set_xlabel('ppmv');\n",
    "\n",
    "axs[0].set_ylabel('Probability Density');"
   ]
  },
  {
   "cell_type": "markdown",
   "metadata": {},
   "source": [
    "The figures above show the same trends as the frequency histograms."
   ]
  },
  {
   "cell_type": "code",
   "execution_count": 10,
   "metadata": {},
   "outputs": [
    {
     "data": {
      "image/png": "[encoded data removed]",
      "text/plain": [
       "<Figure size 432x288 with 2 Axes>"
      ]
     },
     "metadata": {
      "needs_background": "light"
     },
     "output_type": "display_data"
    }
   ],
   "source": [
    "fig, axs = plt.subplots(1, 2, tight_layout=True)\n",
    "\n",
    "axs[0].hist(gt_data['Anomaly'], bins=sqrt_n, cumulative=True, density=True);\n",
    "axs[0].set_title('Anomaly');\n",
    "axs[0].set_xlabel('deg C');\n",
    "\n",
    "axs[1].hist(gt_data['CO2'], bins=sqrt_n, cumulative=True, density=True);\n",
    "axs[1].set_title('CO2');\n",
    "axs[1].set_xlabel('ppmv');\n",
    "\n",
    "axs[0].set_ylabel('Cumalative Probability Density');"
   ]
  },
  {
   "cell_type": "markdown",
   "metadata": {},
   "source": [
    "The flattening of the cumulative probability density histograms toward the higher values, again may suggest a recent increase."
   ]
  },
  {
   "cell_type": "markdown",
   "metadata": {},
   "source": [
    "<div class=\"alert alert-block alert-info\">\n",
    "    <b> Task 6:</b> Construct Time series plot of Anomaly and CO2. Record your observations \n",
    "   </div>"
   ]
  },
  {
   "cell_type": "code",
   "execution_count": 11,
   "metadata": {},
   "outputs": [
    {
     "data": {
      "image/png": "[encoded data removed]",
      "text/plain": [
       "<Figure size 432x288 with 2 Axes>"
      ]
     },
     "metadata": {
      "needs_background": "light"
     },
     "output_type": "display_data"
    }
   ],
   "source": [
    "fig, axs = plt.subplots(1, 2, tight_layout=True)\n",
    "\n",
    "axs[0].plot(global_temp_df['Year'], gt_data['Anomaly']);\n",
    "axs[0].set_xlabel('Year');\n",
    "axs[0].set_ylabel('deg C');\n",
    "axs[0].set_title('Mean Surf. Air Temp Anomaly');\n",
    "\n",
    "axs[1].plot(global_temp_df['Year'], gt_data['CO2']);\n",
    "axs[1].set_xlabel('Year');\n",
    "axs[1].set_ylabel('ppmv');\n",
    "axs[1].set_title('CO2 Concentration');"
   ]
  },
  {
   "cell_type": "markdown",
   "metadata": {},
   "source": [
    "The time series confirms the previous speculation. The mean surface air temperature anomaly and CO2 concentration has increased substatially in recent years."
   ]
  },
  {
   "cell_type": "markdown",
   "metadata": {},
   "source": [
    "<div class=\"alert alert-block alert-info\">\n",
    "    <b>Task 7:</b> Subset of data into pre 1950 and post 1950 and construct boxplot for CO2. Record your observations \n",
    "    </div>"
   ]
  },
  {
   "cell_type": "code",
   "execution_count": 12,
   "metadata": {},
   "outputs": [
    {
     "name": "stdout",
     "output_type": "stream",
     "text": [
      "Pre-1950 Quartiles\n"
     ]
    },
    {
     "data": {
      "text/html": [
       "<div>\n",
       "<style scoped>\n",
       "    .dataframe tbody tr th:only-of-type {\n",
       "        vertical-align: middle;\n",
       "    }\n",
       "\n",
       "    .dataframe tbody tr th {\n",
       "        vertical-align: top;\n",
       "    }\n",
       "\n",
       "    .dataframe thead th {\n",
       "        text-align: right;\n",
       "    }\n",
       "</style>\n",
       "<table border=\"1\" class=\"dataframe\">\n",
       "  <thead>\n",
       "    <tr style=\"text-align: right;\">\n",
       "      <th></th>\n",
       "      <th>Year</th>\n",
       "      <th>Anomaly</th>\n",
       "      <th>CO2</th>\n",
       "    </tr>\n",
       "  </thead>\n",
       "  <tbody>\n",
       "    <tr>\n",
       "      <th>0.25</th>\n",
       "      <td>1897</td>\n",
       "      <td>-0.27</td>\n",
       "      <td>295.0</td>\n",
       "    </tr>\n",
       "    <tr>\n",
       "      <th>0.50</th>\n",
       "      <td>1914</td>\n",
       "      <td>-0.13</td>\n",
       "      <td>301.1</td>\n",
       "    </tr>\n",
       "    <tr>\n",
       "      <th>0.75</th>\n",
       "      <td>1932</td>\n",
       "      <td>-0.01</td>\n",
       "      <td>308.2</td>\n",
       "    </tr>\n",
       "  </tbody>\n",
       "</table>\n",
       "</div>"
      ],
      "text/plain": [
       "      Year  Anomaly    CO2\n",
       "0.25  1897    -0.27  295.0\n",
       "0.50  1914    -0.13  301.1\n",
       "0.75  1932    -0.01  308.2"
      ]
     },
     "metadata": {},
     "output_type": "display_data"
    },
    {
     "name": "stdout",
     "output_type": "stream",
     "text": [
      "Post-1950 Quartiles\n"
     ]
    },
    {
     "data": {
      "text/html": [
       "<div>\n",
       "<style scoped>\n",
       "    .dataframe tbody tr th:only-of-type {\n",
       "        vertical-align: middle;\n",
       "    }\n",
       "\n",
       "    .dataframe tbody tr th {\n",
       "        vertical-align: top;\n",
       "    }\n",
       "\n",
       "    .dataframe thead th {\n",
       "        text-align: right;\n",
       "    }\n",
       "</style>\n",
       "<table border=\"1\" class=\"dataframe\">\n",
       "  <thead>\n",
       "    <tr style=\"text-align: right;\">\n",
       "      <th></th>\n",
       "      <th>Year</th>\n",
       "      <th>Anomaly</th>\n",
       "      <th>CO2</th>\n",
       "    </tr>\n",
       "  </thead>\n",
       "  <tbody>\n",
       "    <tr>\n",
       "      <th>0.25</th>\n",
       "      <td>1964</td>\n",
       "      <td>-0.02</td>\n",
       "      <td>319.2</td>\n",
       "    </tr>\n",
       "    <tr>\n",
       "      <th>0.50</th>\n",
       "      <td>1977</td>\n",
       "      <td>0.12</td>\n",
       "      <td>333.3</td>\n",
       "    </tr>\n",
       "    <tr>\n",
       "      <th>0.75</th>\n",
       "      <td>1990</td>\n",
       "      <td>0.35</td>\n",
       "      <td>354.2</td>\n",
       "    </tr>\n",
       "  </tbody>\n",
       "</table>\n",
       "</div>"
      ],
      "text/plain": [
       "      Year  Anomaly    CO2\n",
       "0.25  1964    -0.02  319.2\n",
       "0.50  1977     0.12  333.3\n",
       "0.75  1990     0.35  354.2"
      ]
     },
     "metadata": {},
     "output_type": "display_data"
    },
    {
     "data": {
      "image/png": "[encoded data removed]",
      "text/plain": [
       "<Figure size 432x288 with 2 Axes>"
      ]
     },
     "metadata": {
      "needs_background": "light"
     },
     "output_type": "display_data"
    }
   ],
   "source": [
    "pre_1950 = global_temp_df.loc[global_temp_df['Year'] < 1950]\n",
    "post_1950 = global_temp_df.loc[global_temp_df['Year'] >= 1950]\n",
    "\n",
    "print('Pre-1950 Quartiles')\n",
    "display(pre_1950.quantile([0.25, 0.5, 0.75], interpolation='nearest'))\n",
    "print('Post-1950 Quartiles')\n",
    "display(post_1950.quantile([0.25, 0.5, 0.75], interpolation='nearest'))\n",
    "\n",
    "fig, axs = plt.subplots(1, 2, tight_layout=True, sharey=True)\n",
    "\n",
    "pre_1950.boxplot(column='CO2', ax=axs[0]);\n",
    "axs[0].set_title('Pre-1950');\n",
    "\n",
    "post_1950.boxplot(column='CO2', ax=axs[1]);\n",
    "axs[1].set_title('Post-1950');\n",
    "\n",
    "axs[0].set_ylabel('CO2 Concentration (ppmv)');"
   ]
  },
  {
   "cell_type": "markdown",
   "metadata": {},
   "source": [
    "The box plots above show a substatial difference in the spread and quartiles of the CO2 concentration in the atmosphere from pre-1950 to post-1950."
   ]
  },
  {
   "cell_type": "markdown",
   "metadata": {},
   "source": [
    "<div class=\"alert alert-block alert-info\">\n",
    "    <b>Task 8:</b> Bi-variate scatter plot, Calculate the Correlation coefficient between Anomaly and CO2. Record your observations\n",
    "    </div>"
   ]
  },
  {
   "cell_type": "code",
   "execution_count": 13,
   "metadata": {},
   "outputs": [
    {
     "name": "stdout",
     "output_type": "stream",
     "text": [
      "CO2-Anomaly Correlation Coefficient: 0.8523340814356963\n"
     ]
    },
    {
     "data": {
      "image/png": "[encoded data removed]",
      "text/plain": [
       "<Figure size 432x288 with 1 Axes>"
      ]
     },
     "metadata": {
      "needs_background": "light"
     },
     "output_type": "display_data"
    }
   ],
   "source": [
    "correlation_coeff = gt_data.corr()['CO2']['Anomaly']\n",
    "print('CO2-Anomaly Correlation Coefficient: {}'.format(correlation_coeff))\n",
    "\n",
    "plt.scatter(gt_data['CO2'], gt_data['Anomaly']);\n",
    "plt.title('CO2-Anomaly Scatter Plot');\n",
    "plt.xlabel('CO2 Concentration (ppmv)');\n",
    "plt.ylabel('Mean Surf Air Temp Anomaly (deg C)');"
   ]
  },
  {
   "cell_type": "markdown",
   "metadata": {},
   "source": [
    "The scatter plot and correlation coefficient of 0.85 suggest a strong correlation between Mean Surface Air Temperature Anomaly and CO2 Concentration in the atmosphere."
   ]
  },
  {
   "cell_type": "markdown",
   "metadata": {},
   "source": [
    "<div class=\"alert alert-block alert-info\">\n",
    "    <b> Task 9:</b> Verify the distribution using Probability plots\n",
    "   </div>"
   ]
  },
  {
   "cell_type": "code",
   "execution_count": 14,
   "metadata": {
    "scrolled": true
   },
   "outputs": [
    {
     "name": "stdout",
     "output_type": "stream",
     "text": [
      "Probability Plots:\n"
     ]
    },
    {
     "data": {
      "image/png": "[encoded data removed]",
      "text/plain": [
       "<Figure size 432x288 with 4 Axes>"
      ]
     },
     "metadata": {
      "needs_background": "light"
     },
     "output_type": "display_data"
    }
   ],
   "source": [
    "j = np.arange(1, n+1)\n",
    "ocf = (j - 0.5)/n #observed cumulative frequency\n",
    "\n",
    "fig, axs = plt.subplots(2, 2, tight_layout=True)\n",
    "\n",
    "print('Probability Plots:')\n",
    "\n",
    "#CO2\n",
    "ordered_co2 =gt_data.sort_values(by='CO2')['CO2']\n",
    "stats.probplot(gt_data['CO2'], plot=axs[0,0]); # uses Filiben's estimate\n",
    "axs[0,1].scatter(ocf, ordered_co2)\n",
    "\n",
    "axs[0,0].set_title(\"Filiben's Estimate\");\n",
    "axs[0,0].set_ylabel('CO2 Concentration');\n",
    "axs[0,1].set_title('Observed Cumulative Freq.');\n",
    "\n",
    "#Anomaly\n",
    "ordered_anomaly = gt_data.sort_values(by='Anomaly')['Anomaly']\n",
    "stats.probplot(gt_data['Anomaly'], plot=axs[1,0]); # uses Filiben's estimate\n",
    "axs[1,1].scatter(ocf, ordered_anomaly);\n",
    "\n",
    "axs[1,0].set_title(\"Filiben's Estimate\");\n",
    "axs[1,0].set_ylabel('Mean Air Temp Anomaly');\n",
    "axs[1,1].set_title('Observed Cumulative Freq.');\n"
   ]
  },
  {
   "cell_type": "markdown",
   "metadata": {},
   "source": [
    "<div class=\"alert alert-block alert-info\">\n",
    "    <b>Task 10:</b> Write out the updated dataset in a csv file \"output_global_temp_co2_nasa.csv\"\n",
    "    </div>"
   ]
  },
  {
   "cell_type": "code",
   "execution_count": null,
   "metadata": {},
   "outputs": [],
   "source": [
    "global_temp_df.to_csv('outpu_global_temp_co2_nasa.csv')"
   ]
  }
 ],
 "metadata": {
  "kernelspec": {
   "display_name": "Python 3",
   "language": "python",
   "name": "python3"
  },
  "language_info": {
   "codemirror_mode": {
    "name": "ipython",
    "version": 3
   },
   "file_extension": ".py",
   "mimetype": "text/x-python",
   "name": "python",
   "nbconvert_exporter": "python",
   "pygments_lexer": "ipython3",
   "version": "3.8.3"
  }
 },
 "nbformat": 4,
 "nbformat_minor": 4
}
